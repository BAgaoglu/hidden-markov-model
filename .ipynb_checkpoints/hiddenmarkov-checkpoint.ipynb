{
 "cells": [
  {
   "cell_type": "code",
   "execution_count": 2,
   "id": "d1e93353",
   "metadata": {},
   "outputs": [],
   "source": [
    "import tensorflow_probability as tfp\n",
    "import tensorflow as tf"
   ]
  },
  {
   "cell_type": "code",
   "execution_count": 31,
   "id": "cfd8e48c",
   "metadata": {},
   "outputs": [],
   "source": [
    "tfd = tfp.distributions  #normal distribution of body temperature of humans\n",
    "initial_distribution = tfd.Categorical(probs = [0.2, 0.8]) # we start off sick\n",
    "transition_distribution = tfd.Categorical(probs =[[ 0.3,  0.7], #sick\n",
    "                                                 [0.2, 0.8]]) #healthy\n",
    "observation_distribution = tfd.Normal(loc = [36.5, 37.5 ], scale = [0.34, 0.48])\n",
    "#mean and standard deviation of human body temperature"
   ]
  },
  {
   "cell_type": "code",
   "execution_count": 38,
   "id": "d8ec3691",
   "metadata": {},
   "outputs": [],
   "source": [
    "model = tfd.HiddenMarkovModel(\n",
    "    initial_distribution = initial_distribution,\n",
    "    transition_distribution = transition_distribution,\n",
    "    observation_distribution = observation_distribution,\n",
    "    num_steps = 4 )"
   ]
  },
  {
   "cell_type": "code",
   "execution_count": 39,
   "id": "08509148",
   "metadata": {},
   "outputs": [
    {
     "name": "stdout",
     "output_type": "stream",
     "text": [
      "[37.3    37.28   37.278  37.2778]\n"
     ]
    }
   ],
   "source": [
    "mean = model.mean()\n",
    "\n",
    "with tf.compat.v1.Session() as session:\n",
    "    print(mean.numpy())"
   ]
  },
  {
   "cell_type": "code",
   "execution_count": null,
   "id": "506f9e87",
   "metadata": {},
   "outputs": [],
   "source": []
  }
 ],
 "metadata": {
  "kernelspec": {
   "display_name": "Python 3 (ipykernel)",
   "language": "python",
   "name": "python3"
  },
  "language_info": {
   "codemirror_mode": {
    "name": "ipython",
    "version": 3
   },
   "file_extension": ".py",
   "mimetype": "text/x-python",
   "name": "python",
   "nbconvert_exporter": "python",
   "pygments_lexer": "ipython3",
   "version": "3.9.12"
  }
 },
 "nbformat": 4,
 "nbformat_minor": 5
}
